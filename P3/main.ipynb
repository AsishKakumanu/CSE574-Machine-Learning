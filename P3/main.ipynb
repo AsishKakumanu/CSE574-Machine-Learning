{
 "cells": [
  {
   "cell_type": "markdown",
   "metadata": {},
   "source": [
    "## Load MNIST on Python 3.x"
   ]
  },
  {
   "cell_type": "code",
   "execution_count": 26,
   "metadata": {},
   "outputs": [],
   "source": [
    "import pickle\n",
    "import gzip\n",
    "import os"
   ]
  },
  {
   "cell_type": "code",
   "execution_count": 27,
   "metadata": {},
   "outputs": [
    {
     "name": "stdout",
     "output_type": "stream",
     "text": [
      "(50000,)\n"
     ]
    }
   ],
   "source": [
    "filename = './Datasets/mnist.pkl.gz'\n",
    "f = gzip.open(filename, 'rb')\n",
    "training_data, validation_data, test_data = pickle.load(f, encoding='latin1')\n",
    "print(training_data[1].shape)\n",
    "f.close()"
   ]
  },
  {
   "cell_type": "markdown",
   "metadata": {},
   "source": [
    "## Load USPS on Python 3.x"
   ]
  },
  {
   "cell_type": "code",
   "execution_count": 28,
   "metadata": {},
   "outputs": [],
   "source": [
    "from PIL import Image\n",
    "import os\n",
    "import numpy as np"
   ]
  },
  {
   "cell_type": "code",
   "execution_count": 29,
   "metadata": {},
   "outputs": [],
   "source": [
    "USPSMat  = []\n",
    "USPSTar  = []\n",
    "curPath  = './Datasets/USPSdata/Numerals'\n",
    "savedImg = []\n",
    "\n",
    "for j in range(0,10):\n",
    "    curFolderPath = curPath + '/' + str(j)\n",
    "    imgs =  os.listdir(curFolderPath)\n",
    "    for img in imgs:\n",
    "        curImg = curFolderPath + '/' + img\n",
    "        if curImg[-3:] == 'png':\n",
    "            img = Image.open(curImg,'r')\n",
    "            img = img.resize((28, 28))\n",
    "            savedImg = img\n",
    "            imgdata = (255-np.array(img.getdata()))/255\n",
    "            USPSMat.append(imgdata)\n",
    "            USPSTar.append(j)"
   ]
  },
  {
   "cell_type": "markdown",
   "metadata": {},
   "source": [
    "## Data"
   ]
  },
  {
   "cell_type": "code",
   "execution_count": 30,
   "metadata": {},
   "outputs": [],
   "source": [
    "X_train,y_train = training_data[0],training_data[1]\n",
    "X_valid,y_valid = validation_data[0],validation_data[1]\n",
    "X_test,y_test = test_data[0],test_data[1]\n",
    "fea = 28"
   ]
  },
  {
   "cell_type": "markdown",
   "metadata": {},
   "source": [
    "## Logistic Regression "
   ]
  },
  {
   "cell_type": "code",
   "execution_count": 31,
   "metadata": {
    "scrolled": true
   },
   "outputs": [
    {
     "name": "stdout",
     "output_type": "stream",
     "text": [
      "############ 1. logistic regression  ###########\n",
      "Accuracy- training set\n",
      "0.91954\n",
      "Accuracy - validation set\n",
      "0.9208\n",
      "Accuracy - testing set\n",
      "0.9125\n",
      "Accuracy - testing USPS data\n",
      "0.30781539076953846\n"
     ]
    }
   ],
   "source": [
    "import numpy as np\n",
    "#<------------**************** 1. logistic regression ********************----------------->\n",
    "\n",
    "\n",
    "X_train,y_train = training_data[0],training_data[1]\n",
    "X_valid,y_valid = validation_data[0],validation_data[1]\n",
    "X_test,y_test = test_data[0],test_data[1]\n",
    "fea = 28\n",
    "\n",
    "num = 50000\n",
    "dim = 784  #28 x_train 28\n",
    "classes = 10 #corresponds to each digit \n",
    "target = np.zeros((num,1))\n",
    "x_train = np.zeros((num,dim))\n",
    "#----------training------------  \n",
    "x_train = X_train\n",
    "target = y_train\n",
    "\n",
    "print(\"############ 1. logistic regression  ###########\")\n",
    "\n",
    "num_class = np.zeros((num,classes))\n",
    "\n",
    "for i in range(0,num):\n",
    "    num_class[i][target[i]] = 1\n",
    "\n",
    "init_weight = np.random.rand(dim,classes) # randomly assigned initial weights\n",
    "\n",
    "b_k = 1\n",
    "eta = 0.01  # learning rate\n",
    "\n",
    "\n",
    "a_k_arr = np.dot(x_train, init_weight) + b_k\n",
    "y_k_bin = np.zeros((num,classes))\n",
    "\n",
    "a_j_sum = np.zeros((1,classes))\n",
    "\n",
    "a_exp = np.exp(a_k_arr)\n",
    "\n",
    "a_j_sum = np.matrix.sum(np.matrix(a_exp), axis =1)\n",
    "\n",
    "y_k_bin = a_exp/a_j_sum\n",
    "\n",
    "w = init_weight #use w for updation of weights\n",
    "\n",
    "x_arr = np.zeros((1,784))\n",
    "\n",
    "for j in range(0,10): \n",
    "    for i in range(0,50000):\n",
    "        x_arr = np.reshape(x_train[i], (1,784))\n",
    "       \n",
    "        a_k_new =  np.dot(x_arr, w) + b_k\n",
    "        a_exp_new = np.exp(a_k_new)\n",
    "        a_j_sum_new = np.matrix.sum(np.matrix(a_exp_new), axis =1)\n",
    "        y_k_bin = a_exp_new/a_j_sum_new\n",
    "        w += np.dot(eta , np.dot( np.transpose(x_arr)  ,np.subtract(num_class[i] ,y_k_bin)))\n",
    "\n",
    "a_k_new =  np.dot(x_train, w) + b_k\n",
    "\n",
    "a_exp_new = np.exp(a_k_new)  \n",
    "a_j_sum_new = np.matrix.sum(np.matrix(a_exp_new), axis =1)\n",
    "\n",
    "y_k_new = a_exp_new/a_j_sum_new\n",
    "\n",
    "#classification and find error rate\n",
    "\n",
    "c = np.argmax(y_k_new, axis=1)\n",
    "\n",
    "n_corr=0\n",
    "for i in range(0,50000):   # correct count\n",
    "    if(c[i]==target[i]):\n",
    "        n_corr += 1\n",
    "print(\"Accuracy- training set\")\n",
    "print (float(n_corr)/num)\n",
    "\n",
    "#-------------validation----------------------------------\n",
    "\n",
    "x_train = X_valid\n",
    "target_valid = y_valid\n",
    "\n",
    "b_k_valtn = np.ones((10000,1))\n",
    "\n",
    "a_k_valtn =  np.dot(x_train, w) + b_k_valtn\n",
    "a_exp_valtn = np.exp(a_k_valtn) \n",
    "a_j_sum_valtn = np.matrix.sum(np.matrix(a_exp_valtn), axis =1)\n",
    "\n",
    "y_k_valtn = a_exp_valtn/a_j_sum_valtn\n",
    "\n",
    "#classification and find error rate\n",
    "\n",
    "c = np.argmax(y_k_valtn, axis=1)\n",
    "\n",
    "n_corr=0\n",
    "for i in range(0,10000):\n",
    "    if(c[i]==target_valid[i]): # correct count\n",
    "        n_corr += 1\n",
    "print (\"Accuracy - validation set\" )       \n",
    "print (float(n_corr)/10000)\n",
    "\n",
    "#-------------testing----------------------------------\n",
    "\n",
    "x_train = X_test\n",
    "target_test = y_test\n",
    "\n",
    "\n",
    "b_k_tst = np.ones((10000,1))\n",
    "\n",
    "a_k_valtn =  np.dot(x_train, w) + b_k_tst\n",
    "\n",
    "a_exp_valtn = np.exp(a_k_valtn)  \n",
    "a_j_sum_valtn = np.matrix.sum(np.matrix(a_exp_valtn), axis =1)\n",
    "\n",
    "y_k_valtn = a_exp_valtn/a_j_sum_valtn\n",
    "\n",
    "#classification and find error rate\n",
    "\n",
    "c_mnist_test = np.argmax(y_k_valtn, axis=1)\n",
    "\n",
    "n_corr_mnist_test=0\n",
    "for i in range(0,10000): # correct count\n",
    "    if(c_mnist_test[i]==target_test[i]):\n",
    "        n_corr_mnist_test += 1\n",
    "print (\"Accuracy - testing set\")       \n",
    "print (float(n_corr_mnist_test )/10000)\n",
    "test_mnist_acc = float(n_corr_mnist_test )/10000\n",
    "\n",
    "\n",
    "#--------testing USPS data --------------\n",
    "\n",
    "x_train = USPSMat\n",
    "target_valid = USPSTar\n",
    "\n",
    "b_k_valtn = np.ones((19999,1))\n",
    "\n",
    "a_k_valtn =  np.dot(x_train, w) + b_k_valtn\n",
    "\n",
    "a_exp_valtn = np.exp(a_k_valtn) \n",
    "a_j_sum_valtn = np.matrix.sum(np.matrix(a_exp_valtn), axis =1)\n",
    "\n",
    "y_k_valtn = a_exp_valtn/a_j_sum_valtn\n",
    "\n",
    "#classification\n",
    "\n",
    "c_usps_test = np.argmax(y_k_valtn, axis=1)\n",
    "\n",
    "n_corr_usps_test=0\n",
    "for i in range(0,19999):\n",
    "    if(c_usps_test[i]==target_valid[i]):\n",
    "        n_corr_usps_test += 1\n",
    "print (\"Accuracy - testing USPS data\" )       \n",
    "print (float(n_corr_usps_test)/19999)\n",
    "test_usps_acc = float(n_corr_usps_test)/19999\n"
   ]
  },
  {
   "cell_type": "code",
   "execution_count": 32,
   "metadata": {},
   "outputs": [
    {
     "data": {
      "text/plain": [
       "matrix([[9],\n",
       "        [2],\n",
       "        [0],\n",
       "        ...,\n",
       "        [7],\n",
       "        [1],\n",
       "        [7]])"
      ]
     },
     "execution_count": 32,
     "metadata": {},
     "output_type": "execute_result"
    }
   ],
   "source": [
    "# c_mnist_test\n",
    "# c_usps_test\n",
    "# test_mnist_acc | test_usps_acc\n",
    "c_usps_test"
   ]
  },
  {
   "cell_type": "code",
   "execution_count": 47,
   "metadata": {},
   "outputs": [],
   "source": [
    "lr = np.squeeze(np.asarray(c_usps_test))"
   ]
  },
  {
   "cell_type": "code",
   "execution_count": 48,
   "metadata": {},
   "outputs": [
    {
     "data": {
      "text/plain": [
       "array([9, 2, 0, ..., 7, 1, 7])"
      ]
     },
     "execution_count": 48,
     "metadata": {},
     "output_type": "execute_result"
    }
   ],
   "source": [
    "lr"
   ]
  },
  {
   "cell_type": "code",
   "execution_count": null,
   "metadata": {},
   "outputs": [],
   "source": []
  },
  {
   "cell_type": "markdown",
   "metadata": {},
   "source": [
    "## Random Forest"
   ]
  },
  {
   "cell_type": "code",
   "execution_count": 33,
   "metadata": {},
   "outputs": [
    {
     "name": "stdout",
     "output_type": "stream",
     "text": [
      "Training...\n",
      "Validating....\n",
      "Evaluating Validation Results...\n",
      "----------------------------------\n",
      "Precision : 0.9525066177792418\n",
      "Recall : 0.9525\n",
      "F1 Score : 0.9523923341326412\n",
      "Accuracy : 0.9525\n",
      "Mean Accuracy : 0.9525\n",
      "\n",
      "Testing Results :: MNIST Dataset ...\n",
      "--------------------------------------\n",
      "Precision : 0.9466675310394334\n",
      "Recall : 0.9466\n",
      "F1 Score : 0.9464681342532542\n",
      "Accuracy : 0.9466\n",
      "Mean Accuracy : 0.9466\n",
      "\n",
      "Testing Results :: USPS Dataset ...\n",
      "--------------------------------------\n",
      "Precision : 0.31865230768854325\n",
      "Recall : 0.30591529576478826\n",
      "F1 Score : 0.2874935094293345\n",
      "Accuracy : 0.30591529576478826\n",
      "Mean Accuracy : 0.30591529576478826\n"
     ]
    }
   ],
   "source": [
    "import numpy\n",
    "import random\n",
    "from numpy import arange\n",
    "\n",
    "# Sklearn Imports\n",
    "from sklearn import metrics\n",
    "from sklearn.ensemble import RandomForestClassifier\n",
    "from sklearn.utils import shuffle\n",
    "from sklearn.externals import joblib\n",
    "\n",
    "X_train,y_train = training_data[0],training_data[1]\n",
    "X_valid,y_valid = validation_data[0],validation_data[1]\n",
    "X_test,y_test = test_data[0],test_data[1]\n",
    "fea = 28\n",
    "\n",
    "# Training\n",
    "print('Training...')\n",
    "clf_rf = RandomForestClassifier(n_estimators=10,n_jobs=2)\n",
    "clf_rf.fit(X_train,y_train)\n",
    "#joblib.dump(clf_rf, '/RadmForest.joblib')\n",
    "\n",
    "# Valdiation\n",
    "print('Validating....')\n",
    "pred = clf_rf.predict(X_valid)\n",
    "\n",
    "# Evaluation\n",
    "print('Evaluating Validation Results...')\n",
    "print('----------------------------------')\n",
    "print('Precision : {}'.format(metrics.precision_score(y_valid,pred,average='weighted')))\n",
    "print('Recall : {}'.format(metrics.recall_score(y_valid,pred,average='weighted')))\n",
    "print('F1 Score : {}'.format(metrics.f1_score(y_valid,pred,average='weighted')))\n",
    "print('Accuracy : {}'.format(metrics.accuracy_score(y_valid,pred)))\n",
    "print('Mean Accuracy : {}\\n'.format(clf_rf.score(X_valid,y_valid)))\n",
    "\n",
    "# Testing :: MNIST Dataset\n",
    "predict_test = clf_rf.predict(X_test)\n",
    "print('Testing Results :: MNIST Dataset ...')\n",
    "print('--------------------------------------')\n",
    "print('Precision : {}'.format(metrics.precision_score(y_test,predict_test,average='weighted')))\n",
    "print('Recall : {}'.format(metrics.recall_score(y_test,predict_test,average='weighted')))\n",
    "print('F1 Score : {}'.format(metrics.f1_score(y_test,predict_test,average='weighted')))\n",
    "print('Accuracy : {}'.format(metrics.accuracy_score(y_test,predict_test)))\n",
    "print('Mean Accuracy : {}\\n'.format(clf_rf.score(X_test,y_test)))\n",
    "\n",
    "\n",
    "#-------------------- X --------------------- X --------------------\n",
    "# Testing :: USPS Dataset\n",
    "predict_test_usps = clf_rf.predict(USPSMat)\n",
    "print('Testing Results :: USPS Dataset ...')\n",
    "print('--------------------------------------')\n",
    "print('Precision : {}'.format(metrics.precision_score(USPSTar,predict_test_usps,average='weighted')))\n",
    "print('Recall : {}'.format(metrics.recall_score(USPSTar,predict_test_usps,average='weighted')))\n",
    "print('F1 Score : {}'.format(metrics.f1_score(USPSTar,predict_test_usps,average='weighted')))\n",
    "print('Accuracy : {}'.format(metrics.accuracy_score(USPSTar,predict_test_usps)))\n",
    "print('Mean Accuracy : {}'.format(clf_rf.score(USPSMat,USPSTar)))"
   ]
  },
  {
   "cell_type": "code",
   "execution_count": 16,
   "metadata": {},
   "outputs": [
    {
     "data": {
      "text/plain": [
       "array([[0. , 0. , 0. , ..., 0.2, 0. , 0.1],\n",
       "       [0. , 0. , 0.6, ..., 0.1, 0. , 0.1],\n",
       "       [0.3, 0. , 0.1, ..., 0. , 0. , 0.1],\n",
       "       ...,\n",
       "       [0. , 0.1, 0. , ..., 0.2, 0. , 0.3],\n",
       "       [0. , 0.3, 0. , ..., 0.1, 0.3, 0.2],\n",
       "       [0. , 0. , 0. , ..., 0.2, 0.1, 0.3]])"
      ]
     },
     "execution_count": 16,
     "metadata": {},
     "output_type": "execute_result"
    }
   ],
   "source": [
    "clf_rf.predict_proba(USPSMat)"
   ]
  },
  {
   "cell_type": "code",
   "execution_count": 50,
   "metadata": {},
   "outputs": [],
   "source": [
    "rf = predict_test_usps"
   ]
  },
  {
   "cell_type": "code",
   "execution_count": 51,
   "metadata": {},
   "outputs": [
    {
     "data": {
      "text/plain": [
       "array([4, 0, 0, ..., 4, 1, 3])"
      ]
     },
     "execution_count": 51,
     "metadata": {},
     "output_type": "execute_result"
    }
   ],
   "source": [
    "rf"
   ]
  },
  {
   "cell_type": "markdown",
   "metadata": {},
   "source": [
    "## MLP"
   ]
  },
  {
   "cell_type": "code",
   "execution_count": 35,
   "metadata": {
    "scrolled": true
   },
   "outputs": [
    {
     "name": "stdout",
     "output_type": "stream",
     "text": [
      "Iteration 1, loss = 0.32761361\n",
      "Iteration 2, loss = 0.14264792\n",
      "Iteration 3, loss = 0.09867745\n",
      "Iteration 4, loss = 0.07720941\n",
      "Iteration 5, loss = 0.06397560\n",
      "Iteration 6, loss = 0.05180313\n",
      "Iteration 7, loss = 0.04289696\n",
      "Iteration 8, loss = 0.03661513\n",
      "Iteration 9, loss = 0.03084568\n",
      "Iteration 10, loss = 0.02535794\n",
      "Iteration 11, loss = 0.02244863\n",
      "Iteration 12, loss = 0.01818990\n",
      "Iteration 13, loss = 0.01555882\n",
      "Iteration 14, loss = 0.01290951\n",
      "Iteration 15, loss = 0.01075671\n",
      "Iteration 16, loss = 0.00903200\n",
      "Iteration 17, loss = 0.00800625\n",
      "Iteration 18, loss = 0.00649719\n",
      "Iteration 19, loss = 0.00556938\n",
      "Iteration 20, loss = 0.00487837\n",
      "Iteration 21, loss = 0.00438882\n",
      "Iteration 22, loss = 0.00381728\n",
      "Iteration 23, loss = 0.00337201\n",
      "Iteration 24, loss = 0.00307217\n",
      "Iteration 25, loss = 0.00288839\n",
      "Iteration 26, loss = 0.00259946\n",
      "Iteration 27, loss = 0.00243593\n",
      "Iteration 28, loss = 0.00229261\n",
      "Iteration 29, loss = 0.00216753\n",
      "Iteration 30, loss = 0.00205609\n",
      "Iteration 31, loss = 0.00199115\n",
      "Iteration 32, loss = 0.00188272\n",
      "Iteration 33, loss = 0.00178268\n",
      "Iteration 34, loss = 0.00171419\n",
      "Iteration 35, loss = 0.00164986\n",
      "Iteration 36, loss = 0.00159106\n",
      "Training loss did not improve more than tol=0.000100 for two consecutive epochs. Stopping.\n",
      "Validation :: MNIST\n",
      "             precision    recall  f1-score   support\n",
      "\n",
      "          0       0.99      0.99      0.99       991\n",
      "          1       0.99      0.99      0.99      1064\n",
      "          2       0.99      0.98      0.98       990\n",
      "          3       0.97      0.98      0.98      1030\n",
      "          4       0.99      0.97      0.98       983\n",
      "          5       0.98      0.96      0.97       915\n",
      "          6       0.98      0.99      0.99       967\n",
      "          7       0.98      0.99      0.99      1090\n",
      "          8       0.97      0.98      0.97      1009\n",
      "          9       0.96      0.97      0.97       961\n",
      "\n",
      "avg / total       0.98      0.98      0.98     10000\n",
      "\n",
      "Accuracy : 0.9804\n",
      "Testing :: MNIST\n",
      "             precision    recall  f1-score   support\n",
      "\n",
      "          0       0.99      0.99      0.99       980\n",
      "          1       0.99      0.99      0.99      1135\n",
      "          2       0.98      0.97      0.98      1032\n",
      "          3       0.97      0.98      0.97      1010\n",
      "          4       0.98      0.98      0.98       982\n",
      "          5       0.99      0.97      0.98       892\n",
      "          6       0.98      0.98      0.98       958\n",
      "          7       0.98      0.98      0.98      1028\n",
      "          8       0.97      0.98      0.97       974\n",
      "          9       0.98      0.97      0.97      1009\n",
      "\n",
      "avg / total       0.98      0.98      0.98     10000\n",
      "\n",
      "Accuracy : 0.9792\n",
      "Testing :: USPS\n",
      "             precision    recall  f1-score   support\n",
      "\n",
      "          0       0.55      0.27      0.37      2000\n",
      "          1       0.62      0.24      0.35      2000\n",
      "          2       0.48      0.77      0.59      1999\n",
      "          3       0.52      0.73      0.61      2000\n",
      "          4       0.51      0.53      0.52      2000\n",
      "          5       0.58      0.70      0.63      2000\n",
      "          6       0.78      0.53      0.63      2000\n",
      "          7       0.32      0.45      0.37      2000\n",
      "          8       0.34      0.40      0.37      2000\n",
      "          9       0.23      0.14      0.17      2000\n",
      "\n",
      "avg / total       0.49      0.48      0.46     19999\n",
      "\n",
      "Accuracy : 0.47657382869143455\n"
     ]
    },
    {
     "data": {
      "text/plain": [
       "'parameter_space = {\\n    \\'activation\\': [\\'tanh\\', \\'relu\\'],\\n    \\'solver\\': [\\'sgd\\', \\'adam\\'],\\n    \\'alpha\\': [0.0001, 0.05],\\n    \\'learning_rate\\': [\\'constant\\',\\'adaptive\\'],\\n}\\n\\n\\n# Best parameter set\\nprint(\\'Best parameters found:\\n\\', clf_mlp.best_params_)\\n\\n# Predict\\ny_pred_mlp = clf_mlp.predict(X_valid)\\n\\n# Validation :: MNIST\\nprint(\\'Validation :: MNIST\\')\\nprint(classification_report(y_valid,y_pred_mlp))\\n\\n# All results\\nmeans = clf_mlp.cv_results_[\\'mean_test_score\\']\\nstds = clf_mlp.cv_results_[\\'std_test_score\\']\\nfor mean, std, params in zip(means, stds, clf.cv_results_[\\'params\\']):\\n    print(\"%0.3f (+/-%0.03f) for %r\" % (mean, std * 2, params))\\n'"
      ]
     },
     "execution_count": 35,
     "metadata": {},
     "output_type": "execute_result"
    }
   ],
   "source": [
    "from sklearn.neural_network import MLPClassifier\n",
    "from sklearn.model_selection import cross_val_score, GridSearchCV\n",
    "from sklearn.externals import joblib\n",
    "from sklearn.metrics import classification_report\n",
    "\n",
    "X_train,y_train = training_data[0],training_data[1]\n",
    "X_valid,y_valid = validation_data[0],validation_data[1]\n",
    "X_test,y_test = test_data[0],test_data[1]\n",
    "fea = 28\n",
    "\n",
    "mlp = MLPClassifier(hidden_layer_sizes=(100,), max_iter=50, alpha=1e-4,solver='sgd',verbose=10, tol=1e-4, random_state=1,learning_rate_init=.1)\n",
    "\n",
    "#clf_mlp = GridSearchCV(mlp, parameter_space, n_jobs=-1, cv=3)\n",
    "mlp.fit(X_train,y_train)\n",
    "\n",
    "# Best parameter set\n",
    "#print('Best parameters found:\\n', mlp.best_params_)\n",
    "\n",
    "# Predict\n",
    "# Validation :: MNIST\n",
    "y_pred_mlp_valid = mlp.predict(X_valid)\n",
    "\n",
    "print('Validation :: MNIST')\n",
    "print(classification_report(y_valid,y_pred_mlp_valid))\n",
    "print('Accuracy : {}'.format(metrics.accuracy_score(y_valid,y_pred_mlp_valid)))\n",
    "\n",
    "\n",
    "# Testing :: MNIST\n",
    "print('Testing :: MNIST')\n",
    "y_pred_mlp_test = mlp.predict(X_test)\n",
    "\n",
    "print(classification_report(y_test,y_pred_mlp_test))\n",
    "print('Accuracy : {}'.format(metrics.accuracy_score(y_test,y_pred_mlp_test)))\n",
    "\n",
    "\n",
    "# Testing :: USPS\n",
    "print('Testing :: USPS')\n",
    "mlp_usps_pred = mlp.predict(USPSMat)\n",
    "\n",
    "print(classification_report(USPSTar,usps_pred))\n",
    "print('Accuracy : {}'.format(metrics.accuracy_score(USPSTar,usps_pred)))\n",
    "\n",
    "'''parameter_space = {\n",
    "    'activation': ['tanh', 'relu'],\n",
    "    'solver': ['sgd', 'adam'],\n",
    "    'alpha': [0.0001, 0.05],\n",
    "    'learning_rate': ['constant','adaptive'],\n",
    "}\n",
    "\n",
    "\n",
    "# Best parameter set\n",
    "print('Best parameters found:\\n', clf_mlp.best_params_)\n",
    "\n",
    "# Predict\n",
    "y_pred_mlp = clf_mlp.predict(X_valid)\n",
    "\n",
    "# Validation :: MNIST\n",
    "print('Validation :: MNIST')\n",
    "print(classification_report(y_valid,y_pred_mlp))\n",
    "\n",
    "# All results\n",
    "means = clf_mlp.cv_results_['mean_test_score']\n",
    "stds = clf_mlp.cv_results_['std_test_score']\n",
    "for mean, std, params in zip(means, stds, clf.cv_results_['params']):\n",
    "    print(\"%0.3f (+/-%0.03f) for %r\" % (mean, std * 2, params))\n",
    "'''\n",
    "\n"
   ]
  },
  {
   "cell_type": "code",
   "execution_count": null,
   "metadata": {},
   "outputs": [],
   "source": [
    "mlp.predict(USPSMat)"
   ]
  },
  {
   "cell_type": "code",
   "execution_count": 52,
   "metadata": {},
   "outputs": [],
   "source": [
    "mlp = mlp_usps_pred"
   ]
  },
  {
   "cell_type": "code",
   "execution_count": 53,
   "metadata": {},
   "outputs": [
    {
     "data": {
      "text/plain": [
       "array([9, 4, 0, ..., 4, 9, 7])"
      ]
     },
     "execution_count": 53,
     "metadata": {},
     "output_type": "execute_result"
    }
   ],
   "source": [
    "mlp"
   ]
  },
  {
   "cell_type": "markdown",
   "metadata": {},
   "source": [
    "## CNN"
   ]
  },
  {
   "cell_type": "code",
   "execution_count": 39,
   "metadata": {},
   "outputs": [
    {
     "name": "stdout",
     "output_type": "stream",
     "text": [
      "Train on 50000 samples, validate on 10000 samples\n",
      "Epoch 1/4\n",
      "50000/50000 [==============================] - 66s 1ms/step - loss: 0.2795 - acc: 0.9129 - val_loss: 0.0626 - val_acc: 0.9826\n",
      "Epoch 2/4\n",
      "50000/50000 [==============================] - 66s 1ms/step - loss: 0.0939 - acc: 0.9722 - val_loss: 0.0533 - val_acc: 0.9861\n",
      "Epoch 3/4\n",
      "50000/50000 [==============================] - 65s 1ms/step - loss: 0.0692 - acc: 0.9796 - val_loss: 0.0452 - val_acc: 0.9864\n",
      "Epoch 4/4\n",
      "50000/50000 [==============================] - 68s 1ms/step - loss: 0.0561 - acc: 0.9832 - val_loss: 0.0418 - val_acc: 0.9885\n",
      "10000/10000 [==============================] - 3s 316us/step\n",
      "Test accuracy: 0.9885\n"
     ]
    }
   ],
   "source": [
    "import keras\n",
    "from keras.models import Sequential\n",
    "from keras.layers import Dense, Dropout, Flatten\n",
    "from keras.layers import Conv2D, MaxPooling2D\n",
    "from keras import backend as K\n",
    "import matplotlib.pyplot as plt \n",
    "import matplotlib.image as mpimg \n",
    "%matplotlib inline \n",
    "from math import sqrt\n",
    "import numpy as np\n",
    "\n",
    "X_train,y_train = training_data[0],training_data[1]\n",
    "X_valid,y_valid = validation_data[0],validation_data[1]\n",
    "X_test,y_test = test_data[0],test_data[1]\n",
    "fea = 28\n",
    "epochs = 4\n",
    "num_classes = 10\n",
    "batch_size = 100\n",
    "input_shape = (28,28,1)\n",
    "X_train_cnn = X_train.reshape((50000, 28, 28, 1))\n",
    "y_train_cnn = keras.utils.to_categorical(y_train, num_classes)\n",
    "\n",
    "# Validation\n",
    "X_valid_cnn = validation_data[0].reshape((10000, 28, 28, 1))\n",
    "y_valid_cnn = keras.utils.to_categorical(validation_data[1], num_classes)\n",
    "\n",
    "usps_mat_data = np.array(USPSMat).reshape((19999,28,28,1))\n",
    "cnn_model = Sequential()\n",
    "cnn_model.add(Conv2D(32, kernel_size=(3, 3),\n",
    "                 activation='relu',\n",
    "                 input_shape=input_shape))\n",
    "cnn_model.add(Conv2D(64, (3, 3), activation='relu'))\n",
    "cnn_model.add(MaxPooling2D(pool_size=(2, 2)))\n",
    "cnn_model.add(Dropout(0.25))\n",
    "cnn_model.add(Flatten())\n",
    "cnn_model.add(Dense(128, activation='relu'))\n",
    "cnn_model.add(Dropout(0.5))\n",
    "cnn_model.add(Dense(num_classes, activation='softmax'))\n",
    "\n",
    "cnn_model.compile(loss=keras.losses.categorical_crossentropy,\n",
    "              optimizer=keras.optimizers.Adadelta(),\n",
    "              metrics=['accuracy'])\n",
    "\n",
    "cnn_model.fit(X_train_cnn, y_train_cnn,\n",
    "          batch_size=batch_size,\n",
    "          epochs=epochs,\n",
    "          verbose=1,\n",
    "          validation_data=(X_valid_cnn, y_valid_cnn))\n",
    "#cnn_model.save('/notebooks/savedcnn_models/cnn.h5')\n",
    "\n",
    "\n",
    "score = cnn_model.evaluate(X_valid_cnn, y_valid_cnn, verbose=1)\n",
    "print('Test accuracy:', score[1]) "
   ]
  },
  {
   "cell_type": "code",
   "execution_count": 55,
   "metadata": {},
   "outputs": [],
   "source": [
    "cnn = cnn_model.predict_classes(usps_mat_data)"
   ]
  },
  {
   "cell_type": "code",
   "execution_count": 56,
   "metadata": {},
   "outputs": [
    {
     "data": {
      "text/plain": [
       "array([9, 0, 0, ..., 7, 7, 7])"
      ]
     },
     "execution_count": 56,
     "metadata": {},
     "output_type": "execute_result"
    }
   ],
   "source": [
    "cnn"
   ]
  },
  {
   "cell_type": "markdown",
   "metadata": {},
   "source": [
    "## DNN"
   ]
  },
  {
   "cell_type": "code",
   "execution_count": 41,
   "metadata": {},
   "outputs": [
    {
     "name": "stdout",
     "output_type": "stream",
     "text": [
      "Train on 50000 samples, validate on 10000 samples\n",
      "Epoch 1/4\n",
      "50000/50000 [==============================] - 158s 3ms/step - loss: 0.4824 - acc: 0.8509 - val_loss: 0.1814 - val_acc: 0.9489\n",
      "Epoch 2/4\n",
      "50000/50000 [==============================] - 171s 3ms/step - loss: 0.1382 - acc: 0.9575 - val_loss: 0.1020 - val_acc: 0.9699\n",
      "Epoch 3/4\n",
      "50000/50000 [==============================] - 173s 3ms/step - loss: 0.1011 - acc: 0.9697 - val_loss: 0.0588 - val_acc: 0.9838\n",
      "Epoch 4/4\n",
      "50000/50000 [==============================] - 171s 3ms/step - loss: 0.0846 - acc: 0.9746 - val_loss: 0.0423 - val_acc: 0.9875\n"
     ]
    },
    {
     "data": {
      "text/plain": [
       "<keras.callbacks.History at 0x11ad1ae48>"
      ]
     },
     "execution_count": 41,
     "metadata": {},
     "output_type": "execute_result"
    }
   ],
   "source": [
    "import keras\n",
    "from keras.models import Sequential\n",
    "from keras.layers import Dense, Dropout, Flatten\n",
    "from keras.layers import Conv2D, MaxPooling2D\n",
    "from keras import backend as K\n",
    "import matplotlib.pyplot as plt \n",
    "import matplotlib.image as mpimg \n",
    "from keras.layers.normalization import BatchNormalization\n",
    "from keras.preprocessing.image import ImageDataGenerator\n",
    "from keras.callbacks import ReduceLROnPlateau\n",
    "from tensorflow.python.keras.optimizers import Adam\n",
    "from keras.optimizers import RMSprop\n",
    "%matplotlib inline \n",
    "from math import sqrt\n",
    "\n",
    "\n",
    "X_train,y_train = training_data[0],training_data[1]\n",
    "X_valid,y_valid = validation_data[0],validation_data[1]\n",
    "X_test,y_test = test_data[0],test_data[1]\n",
    "fea = 28\n",
    "\n",
    "epochs = 4\n",
    "input_shape = (28,28,1)\n",
    "X_train_dnn = X_train.reshape((50000, 28, 28, 1))\n",
    "y_train_dnn = keras.utils.to_categorical(y_train, num_classes)\n",
    "\n",
    "# Validation\n",
    "X_valid_dnn = validation_data[0].reshape((10000, 28, 28, 1))\n",
    "y_valid_dnn = keras.utils.to_categorical(validation_data[1], num_classes)\n",
    "\n",
    "usps_mat_data_dnn = np.array(USPSMat).reshape((19999,28,28,1))\n",
    "\n",
    "dnn_model = Sequential()\n",
    "dnn_model.add(Conv2D(32, kernel_size=(3, 3),\n",
    "                 activation='relu',\n",
    "                 input_shape=input_shape))\n",
    "dnn_model.add(BatchNormalization())\n",
    "dnn_model.add(Dropout(0.5))\n",
    "dnn_model.add(Conv2D(64, (3, 3), activation='relu'))\n",
    "dnn_model.add(BatchNormalization())\n",
    "dnn_model.add(MaxPooling2D(pool_size=(2, 2)))\n",
    "dnn_model.add(Dropout(0.5))\n",
    "dnn_model.add(Conv2D(64, (3, 3), activation='relu'))\n",
    "dnn_model.add(BatchNormalization())\n",
    "dnn_model.add(MaxPooling2D(pool_size=(2, 2)))\n",
    "dnn_model.add(Dropout(0.5))\n",
    "dnn_model.add(Conv2D(128, (3, 3), activation='relu'))\n",
    "dnn_model.add(BatchNormalization())\n",
    "dnn_model.add(Dropout(0.5))\n",
    "dnn_model.add(Flatten())\n",
    "dnn_model.add(Dense(128, activation='relu'))\n",
    "dnn_model.add(BatchNormalization())\n",
    "dnn_model.add(Dropout(0.5))\n",
    "dnn_model.add(Dense(num_classes, activation='softmax'))\n",
    "\n",
    "dnn_model.compile(loss=keras.losses.categorical_crossentropy,\n",
    "              optimizer=keras.optimizers.Adadelta(),\n",
    "              metrics=['accuracy'])\n",
    "\n",
    "dnn_model.fit(X_train_dnn, y_train_dnn,\n",
    "          batch_size=batch_size,\n",
    "          epochs=epochs,\n",
    "          verbose=1,\n",
    "          validation_data=(X_valid_dnn, y_valid_dnn))\n",
    "\n",
    "#dnn_model.save('/notebooks/saveddnn_models/dnn.h5')"
   ]
  },
  {
   "cell_type": "code",
   "execution_count": 43,
   "metadata": {},
   "outputs": [],
   "source": [
    "dnn = dnn_model.predict_classes(usps_mat_data_dnn)"
   ]
  },
  {
   "cell_type": "code",
   "execution_count": 57,
   "metadata": {},
   "outputs": [
    {
     "data": {
      "text/plain": [
       "array([9, 0, 0, ..., 9, 7, 7])"
      ]
     },
     "execution_count": 57,
     "metadata": {},
     "output_type": "execute_result"
    }
   ],
   "source": [
    "dnn"
   ]
  },
  {
   "cell_type": "markdown",
   "metadata": {},
   "source": [
    "## SVM"
   ]
  },
  {
   "cell_type": "code",
   "execution_count": 60,
   "metadata": {},
   "outputs": [
    {
     "name": "stdout",
     "output_type": "stream",
     "text": [
      "Training :: MNIST\n",
      "Validation :: MNIST\n",
      "---------------------\n",
      "Accuracy : 0.9828\n",
      "\n",
      "Testing :: MNIST\n",
      "------------------\n",
      "Accuracy : 0.982\n",
      "\n",
      "Testing :: USPS\n",
      "------------------\n",
      "Accuracy : 0.41527076353817693\n"
     ]
    }
   ],
   "source": [
    "from sklearn import svm\n",
    "from sklearn import metrics\n",
    "\n",
    "\n",
    "X_train,y_train = training_data[0],training_data[1]\n",
    "X_valid,y_valid = validation_data[0],validation_data[1]\n",
    "X_test,y_test = test_data[0],test_data[1]\n",
    "fea = 28\n",
    "\n",
    "# Kernel :: linear, poly, rbf\n",
    "# Training :: MNIST\n",
    "print('Training :: MNIST')\n",
    "clf_svm = svm.SVC(C=5,kernel='rbf',gamma=0.01,probability=True)\n",
    "clf_svm.fit(X_train,y_train)\n",
    "\n",
    "# Validation\n",
    "print('Validation :: MNIST')\n",
    "print('---------------------')\n",
    "pred_svm_valid = clf_svm.predict(X_valid)\n",
    "print('Accuracy : {}\\n'.format(metrics.accuracy_score(y_valid,pred_svm_valid)))\n",
    "\n",
    "\n",
    "# Testing :: MNIST\n",
    "print('Testing :: MNIST')\n",
    "print('------------------')\n",
    "pred_svm_test = clf_svm.predict(X_test)\n",
    "print('Accuracy : {}\\n'.format(metrics.accuracy_score(y_test,pred_svm_test)))\n",
    "\n",
    "# Testing :: USPS\n",
    "print('Testing :: USPS')\n",
    "print('------------------')\n",
    "pred_svm_USPS = clf_svm.predict(USPSMat)\n",
    "print('Accuracy : {}'.format(metrics.accuracy_score(USPSTar,pred_svm_USPS)))"
   ]
  },
  {
   "cell_type": "code",
   "execution_count": 62,
   "metadata": {},
   "outputs": [],
   "source": [
    "svm = pred_svm_USPS"
   ]
  },
  {
   "cell_type": "code",
   "execution_count": 63,
   "metadata": {},
   "outputs": [
    {
     "data": {
      "text/plain": [
       "array([9, 2, 0, ..., 7, 1, 7])"
      ]
     },
     "execution_count": 63,
     "metadata": {},
     "output_type": "execute_result"
    }
   ],
   "source": [
    "svm"
   ]
  },
  {
   "cell_type": "markdown",
   "metadata": {},
   "source": [
    "## Majority Voting"
   ]
  },
  {
   "cell_type": "code",
   "execution_count": 73,
   "metadata": {},
   "outputs": [
    {
     "name": "stdout",
     "output_type": "stream",
     "text": [
      "0.5564778238911946\n"
     ]
    },
    {
     "data": {
      "text/plain": [
       "9"
      ]
     },
     "execution_count": 73,
     "metadata": {},
     "output_type": "execute_result"
    }
   ],
   "source": [
    "'''\n",
    "Logistic Regression\n",
    "-------------------\n",
    "# c_mnist_test\n",
    "# c_usps_test\n",
    "# Accuracy - test_mnist_acc | test_usps_acc\n",
    "\n",
    "SVM\n",
    "----\n",
    "Test_MNIST :: pred_svm_test = clf_svm.predict(X_test)\n",
    "TEST_USPS :: pred_svm_USPS = clf_svm.predict(USPSMat)\n",
    "\n",
    "MLP\n",
    "----\n",
    "TEST_MNIST :: y_pred_mlp_test = mlp.predict(X_test)\n",
    "TEST_USPS :: usps_pred = mlp.predict(USPSMat)\n",
    "'''\n",
    "from sklearn import metrics\n",
    "\n",
    "predictions = [dnn, cnn, mlp, rf, lr]\n",
    "major = np.apply_along_axis(lambda x: np.argmax(np.bincount(x)),axis=0, arr=predictions)\n",
    "print(metrics.accuracy_score(maj, USPSTar))\n",
    "major[0] # Predicted"
   ]
  },
  {
   "cell_type": "code",
   "execution_count": 72,
   "metadata": {},
   "outputs": [
    {
     "data": {
      "image/png": "[encoded data removed]",
      "text/plain": [
       "<Figure size 432x288 with 1 Axes>"
      ]
     },
     "metadata": {},
     "output_type": "display_data"
    },
    {
     "data": {
      "image/png": "[encoded data removed]",
      "text/plain": [
       "<Figure size 432x288 with 1 Axes>"
      ]
     },
     "metadata": {},
     "output_type": "display_data"
    }
   ],
   "source": [
    "import matplotlib.pyplot as plt \n",
    "import numpy as np \n",
    "\n",
    "mx = [0.001,0.003,0.005,0.008,0.01,0.03,0.05,0.1,0.3,0.5]\n",
    "my = [0.7908, 0.8333, 0.8489, 0.8646, 0.8719, 0.8939, 0.9008, 0.9084, 0.9175, 0.9204]\n",
    "my1 = [0.8339, 0.8681, 0.8798, 0.8886, 0.8925, 0.9088, 0.9141, 0.9171, 0.9237, 0.9215]\n",
    "my2 = [0.8497, 0.8797, 0.8898, 0.898, 0.9016, 0.9146, 0.9183, 0.9215, 0.924, 0.9182]\n",
    "my3 = [0.8658, 0.8891, 0.8981, 0.9057, 0.9082, 0.9175, 0.92, 0.9221, 0.9216, 0.9239]\n",
    "\n",
    "# epochs number blue = 1, red =3, yellow = 5, green =8\n",
    "\n",
    "\n",
    "plt.plot(mx, my, 'b^', label =\"epoch =1\", linestyle='-')\n",
    "plt.plot(mx, my1, 'r^', label =\"epoch =3\", linestyle='-')\n",
    "plt.plot(mx, my2, 'y^',label = \"epoch =5\", linestyle='-')\n",
    "#plt.plot(mx, my3, 'g^',label = \"epoch = 8\", linestyle='-')\n",
    "plt.legend()\n",
    "plt.axis([-0.5, 0.55, 0.75, 1])\n",
    "plt.xlabel('Learning Rate')\n",
    "plt.ylabel('Accuracy')\n",
    "plt.title('MNIST Logistic Regression')\n",
    "plt.show()\n",
    "\n",
    "\n",
    "\n",
    "ux = [0.001,0.003,0.005,0.008,0.01,0.03,0.05,0.1,0.3,0.5]\n",
    "uy = [0.2869, 0.3197, 0.32725, 0.33315, 0.3375, 0.3528, 0.3622, 0.3688, 0.37345, 0.36975]\n",
    "uy1 = [0.3183, 0.33585, 0.3436, 0.35065, 0.3538, 0.36725, 0.36915, 0.37035, 0.35985, 0.35675]\n",
    "uy2 = [0.32755, 0.34285, 0.3511, 0.35805, 0.36125, 0.3696, 0.36855, 0.3673, 0.35745, 0.35275]\n",
    "uy3 = [0.3338, 0.35015, 0.3591, 0.36395, 0.36665, 0.3681, 0.3677, 0.36185, 0.3584, 0.35205]\n",
    "\n",
    "# epochs number blue = 1, red =3, yellow = 5, green =8\n",
    "\n",
    "plt.figure(2)\n",
    "plt.plot(ux, uy, 'b^', label =\"epoch =1\", linestyle='-')\n",
    "plt.plot(ux, uy1, 'r^', label =\"epoch =3\", linestyle='-')\n",
    "plt.plot(ux, uy2, 'y^',label = \"epoch =5\", linestyle='-')\n",
    "#plt.plot(ux, uy3, 'g^',label = \"epoch = 8\", linestyle='-')\n",
    "plt.legend()\n",
    "plt.axis([-0.5, 0.55, 0.25, 0.4])\n",
    "plt.xlabel('Learning Rate')\n",
    "plt.ylabel('Accuracy')\n",
    "plt.title('USPS Logistic Regression')\n",
    "plt.show()"
   ]
  },
  {
   "cell_type": "markdown",
   "metadata": {},
   "source": [
    "## Confusion Matrix"
   ]
  },
  {
   "cell_type": "code",
   "execution_count": 1,
   "metadata": {},
   "outputs": [
    {
     "name": "stdout",
     "output_type": "stream",
     "text": [
      "Confusion Matrix for SVM: Validation_MNIST\n"
     ]
    },
    {
     "ename": "NameError",
     "evalue": "name 'y_valid' is not defined",
     "output_type": "error",
     "traceback": [
      "\u001b[0;31m---------------------------------------------------------------------------\u001b[0m",
      "\u001b[0;31mNameError\u001b[0m                                 Traceback (most recent call last)",
      "\u001b[0;32m<ipython-input-1-9f54893ce5ef>\u001b[0m in \u001b[0;36m<module>\u001b[0;34m()\u001b[0m\n\u001b[1;32m      1\u001b[0m \u001b[0;32mfrom\u001b[0m \u001b[0msklearn\u001b[0m\u001b[0;34m.\u001b[0m\u001b[0mmetrics\u001b[0m \u001b[0;32mimport\u001b[0m \u001b[0mconfusion_matrix\u001b[0m\u001b[0;34m,\u001b[0m\u001b[0mclassification_report\u001b[0m\u001b[0;34m\u001b[0m\u001b[0m\n\u001b[1;32m      2\u001b[0m \u001b[0mprint\u001b[0m\u001b[0;34m(\u001b[0m\u001b[0;34m\"Confusion Matrix for SVM: Validation_MNIST\"\u001b[0m\u001b[0;34m)\u001b[0m\u001b[0;34m\u001b[0m\u001b[0m\n\u001b[0;32m----> 3\u001b[0;31m \u001b[0mprint\u001b[0m\u001b[0;34m(\u001b[0m\u001b[0mconfusion_matrix\u001b[0m\u001b[0;34m(\u001b[0m\u001b[0my_valid\u001b[0m\u001b[0;34m,\u001b[0m\u001b[0mpred_svm_valid\u001b[0m\u001b[0;34m)\u001b[0m\u001b[0;34m)\u001b[0m\u001b[0;34m\u001b[0m\u001b[0m\n\u001b[0m\u001b[1;32m      4\u001b[0m \u001b[0mprint\u001b[0m\u001b[0;34m(\u001b[0m\u001b[0;34m\"Confusion Matrix for SVM: Testing_MNIST\"\u001b[0m\u001b[0;34m)\u001b[0m\u001b[0;34m\u001b[0m\u001b[0m\n\u001b[1;32m      5\u001b[0m \u001b[0mprint\u001b[0m\u001b[0;34m(\u001b[0m\u001b[0mconfusion_matrix\u001b[0m\u001b[0;34m(\u001b[0m\u001b[0my_test\u001b[0m\u001b[0;34m,\u001b[0m\u001b[0mpred_svm_test\u001b[0m\u001b[0;34m)\u001b[0m\u001b[0;34m)\u001b[0m\u001b[0;34m\u001b[0m\u001b[0m\n",
      "\u001b[0;31mNameError\u001b[0m: name 'y_valid' is not defined"
     ]
    }
   ],
   "source": [
    "from sklearn.metrics import confusion_matrix,classification_report\n",
    "print(\"Confusion Matrix for SVM: Validation_MNIST\")\n",
    "print(confusion_matrix(y_valid,pred_svm_valid))\n",
    "print(\"Confusion Matrix for SVM: Testing_MNIST\")\n",
    "print(confusion_matrix(y_test,pred_svm_test))\n",
    "print(\"Confusion Matrix for SVM: Testing_USPS\" )\n",
    "print(confusion_matrix(USPSTar,pred_svm_USPS))\n",
    "\n",
    "\n",
    "#----- X -------\n",
    "\n",
    "print(\"Confusion Matrix for Random Forest: Validation_MNIST\")\n",
    "print(confusion_matrix(X_valid,y_valid))\n",
    "print(\"Confusion Matrix for Random Forest: Testing_MNIST\")\n",
    "print(confusion_matrix(X_test,y_test))\n",
    "print(\"Confusion Matrix for Random Forest: Testing_USPS\" )\n",
    "print(confusion_matrix(USPSMat,USPSTar))\n",
    "\n",
    "\n",
    "#----- X -------\n",
    "\n",
    "print(\"Confusion Matrix for Neural Networks: Testing_USPS\" )\n",
    "print(confusion_matrix(usps_mat_data,USPSTar))\n",
    "\n",
    "#----- X -------\n",
    "\n",
    "print(\"Confusion Matrix for Logistic Regression: Testing_USPS\" )\n",
    "print(confusion_matrix(test_usps_acc,USPSTar))\n",
    "\n",
    "#----- X -------\n",
    "\n",
    "print(\"Confusion Matrix for majority voting\" )\n",
    "print(confusion_matrix(major,USPSTar))"
   ]
  },
  {
   "cell_type": "code",
   "execution_count": null,
   "metadata": {},
   "outputs": [],
   "source": []
  }
 ],
 "metadata": {
  "kernelspec": {
   "display_name": "Python 3",
   "language": "python",
   "name": "python3"
  },
  "language_info": {
   "codemirror_mode": {
    "name": "ipython",
    "version": 3
   },
   "file_extension": ".py",
   "mimetype": "text/x-python",
   "name": "python",
   "nbconvert_exporter": "python",
   "pygments_lexer": "ipython3",
   "version": "3.6.5"
  }
 },
 "nbformat": 4,
 "nbformat_minor": 2
}
